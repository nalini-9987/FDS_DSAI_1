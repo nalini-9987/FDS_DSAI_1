{
 "cells": [
  {
   "cell_type": "code",
   "execution_count": 1,
   "id": "54a3ce48",
   "metadata": {},
   "outputs": [
    {
     "name": "stdout",
     "output_type": "stream",
     "text": [
      "probability of getting 3 is:  0.16666666666666666\n"
     ]
    }
   ],
   "source": [
    "#probability of getting 3 when a die is rolled\n",
    "ns = 6 #n(S) = {1,2,3,4,5,6}\n",
    "na = 1 #n(A) = {3}\n",
    "pa = na/ns #p(A)\n",
    "print(\"probability of getting 3 is: \",pa)"
   ]
  },
  {
   "cell_type": "code",
   "execution_count": 2,
   "id": "26da1d7f",
   "metadata": {},
   "outputs": [
    {
     "name": "stdout",
     "output_type": "stream",
     "text": [
      "probability of getting atleast one head is:  0.875\n"
     ]
    }
   ],
   "source": [
    "# probability of getting atleat one head when one coin is tossed is thrice \n",
    "ns = 8 #n(S) = {HHH,TTT,HTT,HTH,HHT,THH,TTH,THT}\n",
    "na = 7 #n(A) = {HHH,HTT,HTH,HHT,THH,TTH,THT}\n",
    "pa = na/ns #p(A)\n",
    "print(\"probability of getting atleast one head is: \",pa)"
   ]
  },
  {
   "cell_type": "code",
   "execution_count": 3,
   "id": "d55f37d7",
   "metadata": {},
   "outputs": [
    {
     "name": "stdout",
     "output_type": "stream",
     "text": [
      "probability of getting not jelly bean is:  0.7\n"
     ]
    }
   ],
   "source": [
    "# A glass jar contains 5 red, 3 blue and 2 green jelly beans\n",
    "# if a jelly bean is chosen at random from the jar,\n",
    "# what is the probability that is not blue\n",
    "\n",
    "ns = 10 #n(S) ={Red,Green,Blue}\n",
    "na =7 #n(A) = {Red,Blue}\n",
    "pa = na/ns #p(A)\n",
    "print(\"probability of getting not jelly bean is: \",pa)"
   ]
  },
  {
   "cell_type": "markdown",
   "id": "5166c5a8",
   "metadata": {},
   "source": [
    "## Independent and dependent Events"
   ]
  },
  {
   "cell_type": "code",
   "execution_count": 4,
   "id": "9fae754d",
   "metadata": {},
   "outputs": [
    {
     "name": "stdout",
     "output_type": "stream",
     "text": [
      "pribability that they will be alive afterr 20 years: 0.35\n"
     ]
    }
   ],
   "source": [
    "p=0.7*0.5\n",
    "print(\"pribability that they will be alive afterr 20 years:\",p)"
   ]
  },
  {
   "cell_type": "code",
   "execution_count": 5,
   "id": "df362076",
   "metadata": {},
   "outputs": [],
   "source": [
    "def event_probability(n,s):\n",
    "    return n/s"
   ]
  },
  {
   "cell_type": "code",
   "execution_count": 6,
   "id": "64225c43",
   "metadata": {},
   "outputs": [
    {
     "name": "stdout",
     "output_type": "stream",
     "text": [
      "probability of getting a 4 or 5 on the first toss and a 1,2, or 3 in the second toss is: 0.16666666666666666\n"
     ]
    }
   ],
   "source": [
    "# a fair die is tossed twice . find the probability of getting a 4 or 5 on the first toss a\n",
    "# 1,2, or 3 in the second toss.\n",
    "pa=event_probability(2,6) # probability of getting a 4 or 5 \n",
    "pb=event_probability(3,6) # probability of getting 1,2, or 3 \n",
    "p=pa*pb\n",
    "print(\"probability of getting a 4 or 5 on the first toss and a 1,2, or 3 in the second toss is:\",p)"
   ]
  },
  {
   "cell_type": "code",
   "execution_count": 7,
   "id": "def023db",
   "metadata": {},
   "outputs": [
    {
     "name": "stdout",
     "output_type": "stream",
     "text": [
      "the probability of obtaining white, black and green in that order is : 0.041666666666666664\n"
     ]
    }
   ],
   "source": [
    "# A bag contains 5 white marbles , 3 black marbles and 2 green marbles. in each draw , a marble is drwan from \n",
    "# the bag and not replaced . In three draw , find the probability of obtaining white, black and green in that order,\n",
    "pw=event_probability(5,10)\n",
    "pb=event_probability(3,9)\n",
    "pg=event_probability(2,8)\n",
    "print(\"the probability of obtaining white, black and green in that order is :\",pg*pw*pb)"
   ]
  },
  {
   "cell_type": "code",
   "execution_count": 8,
   "id": "f51c4340",
   "metadata": {},
   "outputs": [
    {
     "name": "stdout",
     "output_type": "stream",
     "text": [
      "0.5\n"
     ]
    }
   ],
   "source": [
    "# Sample space \n",
    "cards=52\n",
    "# calculate the probability of drawing a heart or a club\n",
    "hearts=13\n",
    "clubs=13\n",
    "heart_or_club=event_probability(hearts,cards)+event_probability(clubs,cards)\n",
    "print(heart_or_club)"
   ]
  },
  {
   "cell_type": "code",
   "execution_count": 9,
   "id": "4109dc8a",
   "metadata": {},
   "outputs": [
    {
     "name": "stdout",
     "output_type": "stream",
     "text": [
      "0.23076923076923078\n"
     ]
    }
   ],
   "source": [
    "# calculate the probability of drawing an ace, \n",
    "#king , or a queen \n",
    "aces=4\n",
    "kings=4\n",
    "queens=4\n",
    "ace_king_or_queen=event_probability(aces,cards)+event_probability(kings,cards)+event_probability(queens,cards)\n",
    "print(ace_king_or_queen)"
   ]
  },
  {
   "cell_type": "code",
   "execution_count": 28,
   "id": "3c8da408",
   "metadata": {},
   "outputs": [
    {
     "name": "stdout",
     "output_type": "stream",
     "text": [
      "0.3\n"
     ]
    }
   ],
   "source": [
    "# calculate the prob. of drawing a heart or an ace\n",
    "aces = 4\n",
    "hearts = 13\n",
    "aces_of_hearts = 1\n",
    "heart_or_ace = event_probability(hearts,cards) + event_probability(aces,cards) - event_probability(aces_of_hearts,cards)\n",
    "print(round(heart_or_ace,1))"
   ]
  },
  {
   "cell_type": "code",
   "execution_count": 29,
   "id": "4f4a189e",
   "metadata": {},
   "outputs": [
    {
     "name": "stdout",
     "output_type": "stream",
     "text": [
      "0.6\n"
     ]
    }
   ],
   "source": [
    "# calculate the prob. of drawing a red card or an face card\n",
    "red_cards = 26\n",
    "face_cards = 12\n",
    "red_face_cards = 6\n",
    "red_or_face_card = event_probability(red_cards,cards) + event_probability(face_cards,cards) - event_probability(red_face_cards,cards)\n",
    "print(round(red_or_face_card,1))"
   ]
  },
  {
   "cell_type": "markdown",
   "id": "e86c8083",
   "metadata": {},
   "source": [
    "# Complementry Event"
   ]
  },
  {
   "cell_type": "code",
   "execution_count": 12,
   "id": "cc17ddbf",
   "metadata": {},
   "outputs": [
    {
     "name": "stdout",
     "output_type": "stream",
     "text": [
      "Prob. of not getting 5 is:  0.8333333333333334\n"
     ]
    }
   ],
   "source": [
    "# probability of not getting 5 when a fair die is rolled\n",
    "\n",
    "ns = 6 #n(s) = {1,2,3,4,5,6}\n",
    "na = 1 #n(a) = {5}\n",
    "pa = na/ns #p(a)\n",
    "print(\"Prob. of not getting 5 is: \",1-pa)"
   ]
  },
  {
   "cell_type": "markdown",
   "id": "b813d475",
   "metadata": {},
   "source": [
    "# Conditional prob."
   ]
  },
  {
   "cell_type": "code",
   "execution_count": 27,
   "id": "c45640e4",
   "metadata": {},
   "outputs": [
    {
     "data": {
      "text/html": [
       "<div>\n",
       "<style scoped>\n",
       "    .dataframe tbody tr th:only-of-type {\n",
       "        vertical-align: middle;\n",
       "    }\n",
       "\n",
       "    .dataframe tbody tr th {\n",
       "        vertical-align: top;\n",
       "    }\n",
       "\n",
       "    .dataframe thead th {\n",
       "        text-align: right;\n",
       "    }\n",
       "</style>\n",
       "<table border=\"1\" class=\"dataframe\">\n",
       "  <thead>\n",
       "    <tr style=\"text-align: right;\">\n",
       "      <th></th>\n",
       "      <th>school</th>\n",
       "      <th>sex</th>\n",
       "      <th>age</th>\n",
       "      <th>address</th>\n",
       "      <th>famsize</th>\n",
       "      <th>Pstatus</th>\n",
       "      <th>Medu</th>\n",
       "      <th>Fedu</th>\n",
       "      <th>Mjob</th>\n",
       "      <th>Fjob</th>\n",
       "      <th>...</th>\n",
       "      <th>famrel</th>\n",
       "      <th>freetime</th>\n",
       "      <th>goout</th>\n",
       "      <th>Dalc</th>\n",
       "      <th>Walc</th>\n",
       "      <th>health</th>\n",
       "      <th>absences</th>\n",
       "      <th>G1</th>\n",
       "      <th>G2</th>\n",
       "      <th>G3</th>\n",
       "    </tr>\n",
       "  </thead>\n",
       "  <tbody>\n",
       "    <tr>\n",
       "      <th>0</th>\n",
       "      <td>GP</td>\n",
       "      <td>F</td>\n",
       "      <td>18</td>\n",
       "      <td>U</td>\n",
       "      <td>GT3</td>\n",
       "      <td>A</td>\n",
       "      <td>4</td>\n",
       "      <td>4</td>\n",
       "      <td>at_home</td>\n",
       "      <td>teacher</td>\n",
       "      <td>...</td>\n",
       "      <td>4</td>\n",
       "      <td>3</td>\n",
       "      <td>4</td>\n",
       "      <td>1</td>\n",
       "      <td>1</td>\n",
       "      <td>3</td>\n",
       "      <td>6</td>\n",
       "      <td>5</td>\n",
       "      <td>6</td>\n",
       "      <td>6</td>\n",
       "    </tr>\n",
       "    <tr>\n",
       "      <th>1</th>\n",
       "      <td>GP</td>\n",
       "      <td>F</td>\n",
       "      <td>17</td>\n",
       "      <td>U</td>\n",
       "      <td>GT3</td>\n",
       "      <td>T</td>\n",
       "      <td>1</td>\n",
       "      <td>1</td>\n",
       "      <td>at_home</td>\n",
       "      <td>other</td>\n",
       "      <td>...</td>\n",
       "      <td>5</td>\n",
       "      <td>3</td>\n",
       "      <td>3</td>\n",
       "      <td>1</td>\n",
       "      <td>1</td>\n",
       "      <td>3</td>\n",
       "      <td>4</td>\n",
       "      <td>5</td>\n",
       "      <td>5</td>\n",
       "      <td>6</td>\n",
       "    </tr>\n",
       "    <tr>\n",
       "      <th>2</th>\n",
       "      <td>GP</td>\n",
       "      <td>F</td>\n",
       "      <td>15</td>\n",
       "      <td>U</td>\n",
       "      <td>LE3</td>\n",
       "      <td>T</td>\n",
       "      <td>1</td>\n",
       "      <td>1</td>\n",
       "      <td>at_home</td>\n",
       "      <td>other</td>\n",
       "      <td>...</td>\n",
       "      <td>4</td>\n",
       "      <td>3</td>\n",
       "      <td>2</td>\n",
       "      <td>2</td>\n",
       "      <td>3</td>\n",
       "      <td>3</td>\n",
       "      <td>10</td>\n",
       "      <td>7</td>\n",
       "      <td>8</td>\n",
       "      <td>10</td>\n",
       "    </tr>\n",
       "    <tr>\n",
       "      <th>3</th>\n",
       "      <td>GP</td>\n",
       "      <td>F</td>\n",
       "      <td>15</td>\n",
       "      <td>U</td>\n",
       "      <td>GT3</td>\n",
       "      <td>T</td>\n",
       "      <td>4</td>\n",
       "      <td>2</td>\n",
       "      <td>health</td>\n",
       "      <td>services</td>\n",
       "      <td>...</td>\n",
       "      <td>3</td>\n",
       "      <td>2</td>\n",
       "      <td>2</td>\n",
       "      <td>1</td>\n",
       "      <td>1</td>\n",
       "      <td>5</td>\n",
       "      <td>2</td>\n",
       "      <td>15</td>\n",
       "      <td>14</td>\n",
       "      <td>15</td>\n",
       "    </tr>\n",
       "    <tr>\n",
       "      <th>4</th>\n",
       "      <td>GP</td>\n",
       "      <td>F</td>\n",
       "      <td>16</td>\n",
       "      <td>U</td>\n",
       "      <td>GT3</td>\n",
       "      <td>T</td>\n",
       "      <td>3</td>\n",
       "      <td>3</td>\n",
       "      <td>other</td>\n",
       "      <td>other</td>\n",
       "      <td>...</td>\n",
       "      <td>4</td>\n",
       "      <td>3</td>\n",
       "      <td>2</td>\n",
       "      <td>1</td>\n",
       "      <td>2</td>\n",
       "      <td>5</td>\n",
       "      <td>4</td>\n",
       "      <td>6</td>\n",
       "      <td>10</td>\n",
       "      <td>10</td>\n",
       "    </tr>\n",
       "  </tbody>\n",
       "</table>\n",
       "<p>5 rows × 33 columns</p>\n",
       "</div>"
      ],
      "text/plain": [
       "  school sex  age address famsize Pstatus  Medu  Fedu     Mjob      Fjob  ...  \\\n",
       "0     GP   F   18       U     GT3       A     4     4  at_home   teacher  ...   \n",
       "1     GP   F   17       U     GT3       T     1     1  at_home     other  ...   \n",
       "2     GP   F   15       U     LE3       T     1     1  at_home     other  ...   \n",
       "3     GP   F   15       U     GT3       T     4     2   health  services  ...   \n",
       "4     GP   F   16       U     GT3       T     3     3    other     other  ...   \n",
       "\n",
       "  famrel freetime  goout  Dalc  Walc health absences  G1  G2  G3  \n",
       "0      4        3      4     1     1      3        6   5   6   6  \n",
       "1      5        3      3     1     1      3        4   5   5   6  \n",
       "2      4        3      2     2     3      3       10   7   8  10  \n",
       "3      3        2      2     1     1      5        2  15  14  15  \n",
       "4      4        3      2     1     2      5        4   6  10  10  \n",
       "\n",
       "[5 rows x 33 columns]"
      ]
     },
     "execution_count": 27,
     "metadata": {},
     "output_type": "execute_result"
    }
   ],
   "source": [
    "import pandas as pd\n",
    "import numpy as np\n",
    "df = pd.read_csv(\"D:/anita madam rj/New folder/data/student-mat.csv\")\n",
    "df.head()"
   ]
  },
  {
   "cell_type": "code",
   "execution_count": null,
   "id": "02bc2052",
   "metadata": {},
   "outputs": [],
   "source": [
    "df['grade_A'] = np.where(df['G3']*5 >= 80,1,0)"
   ]
  },
  {
   "cell_type": "code",
   "execution_count": null,
   "id": "0f698406",
   "metadata": {},
   "outputs": [],
   "source": [
    "df['high_absenses'] = np.where(df['absences'] >=10 ,1,0)"
   ]
  },
  {
   "cell_type": "code",
   "execution_count": null,
   "id": "e6ca6e70",
   "metadata": {},
   "outputs": [],
   "source": [
    "df.head()"
   ]
  },
  {
   "cell_type": "code",
   "execution_count": null,
   "id": "37c61904",
   "metadata": {},
   "outputs": [],
   "source": [
    "df['count'] = 1"
   ]
  },
  {
   "cell_type": "code",
   "execution_count": null,
   "id": "ba292775",
   "metadata": {},
   "outputs": [],
   "source": [
    "df = df[['grade_A','high_absenses','count']]\n",
    "df.head()"
   ]
  },
  {
   "cell_type": "code",
   "execution_count": null,
   "id": "ff9adb30",
   "metadata": {},
   "outputs": [],
   "source": [
    "final = pd.pivot_table(\n",
    "    df,\n",
    "    values='count',\n",
    "    index=['grade_A'],\n",
    "    columns=['high_absenses'],\n",
    "    aggfunc=np.size,\n",
    "    fill_value=0\n",
    "\n",
    ")\n",
    "print(final)"
   ]
  },
  {
   "cell_type": "code",
   "execution_count": null,
   "id": "fc3ce591",
   "metadata": {},
   "outputs": [],
   "source": [
    "pa = (35+5)/(277+78+35+5) # student h=who have grade A\n",
    "print(pa)\n",
    "pb = (78+5)/(277+78+35+5) # student who have absent more than 10 lecture\n",
    "print(pb)\n",
    "p_a_or_b = 5/(277+78+35+5) # student who have absent more than 10 lec. and having grade A\n",
    "print(p_a_or_b)\n",
    "P_ab = p_a_or_b/pb \n",
    "print(P_ab)"
   ]
  },
  {
   "cell_type": "markdown",
   "id": "1eabfa16",
   "metadata": {},
   "source": [
    "# Combinatorics: Permutations, Variations & Combinations"
   ]
  },
  {
   "cell_type": "markdown",
   "id": "1dafa660",
   "metadata": {},
   "source": [
    "Consider the following example. we have a box with some balls inside(each with a different color) and we want to compute the number of ways we can arrange those balls. We can do so with two different approaches: with repetition (each ball is reinserted into the box after it is picked) or without repetition.\n",
    "\n",
    "With Repetition: the idea is that, after each ball extracted, we can pick it agian as many times as we want. Let's have an easy start and consider the box={g,b}, where g='green ball' and b='blue ball':well, in that case, the possible ways we can arrange those balls are 'gg','bg','gb','bb'. We can also compute it with python:\n",
    "\n",
    "If we want to generalize, when we have n objects and we want to see in how many ways we can arrange them, we have:\n",
    "\n",
    "nnn.............n=n^n"
   ]
  },
  {
   "cell_type": "code",
   "execution_count": 15,
   "id": "1aeaf27d",
   "metadata": {},
   "outputs": [
    {
     "data": {
      "text/plain": [
       "[('g', 'g'), ('g', 'b'), ('b', 'g'), ('b', 'b')]"
      ]
     },
     "execution_count": 15,
     "metadata": {},
     "output_type": "execute_result"
    }
   ],
   "source": [
    "import itertools\n",
    "from itertools import product\n",
    "box_1=['g','b']\n",
    "perm=[]\n",
    "for p in itertools.product(box_1, repeat=2):\n",
    "    perm.append(p)\n",
    "\n",
    "perm"
   ]
  },
  {
   "cell_type": "markdown",
   "id": "23165adc",
   "metadata": {},
   "source": [
    "Lets do the same with 3 balls instead:"
   ]
  },
  {
   "cell_type": "code",
   "execution_count": 16,
   "id": "32d12a65",
   "metadata": {},
   "outputs": [
    {
     "data": {
      "text/plain": [
       "[('g', 'g', 'g'),\n",
       " ('g', 'g', 'b'),\n",
       " ('g', 'g', 'y'),\n",
       " ('g', 'b', 'g'),\n",
       " ('g', 'b', 'b'),\n",
       " ('g', 'b', 'y'),\n",
       " ('g', 'y', 'g'),\n",
       " ('g', 'y', 'b'),\n",
       " ('g', 'y', 'y'),\n",
       " ('b', 'g', 'g'),\n",
       " ('b', 'g', 'b'),\n",
       " ('b', 'g', 'y'),\n",
       " ('b', 'b', 'g'),\n",
       " ('b', 'b', 'b'),\n",
       " ('b', 'b', 'y'),\n",
       " ('b', 'y', 'g'),\n",
       " ('b', 'y', 'b'),\n",
       " ('b', 'y', 'y'),\n",
       " ('y', 'g', 'g'),\n",
       " ('y', 'g', 'b'),\n",
       " ('y', 'g', 'y'),\n",
       " ('y', 'b', 'g'),\n",
       " ('y', 'b', 'b'),\n",
       " ('y', 'b', 'y'),\n",
       " ('y', 'y', 'g'),\n",
       " ('y', 'y', 'b'),\n",
       " ('y', 'y', 'y')]"
      ]
     },
     "execution_count": 16,
     "metadata": {},
     "output_type": "execute_result"
    }
   ],
   "source": [
    "import itertools\n",
    "from itertools import product\n",
    "box_1=['g','b','y']\n",
    "perm=[]\n",
    "for p in itertools.product(box_1, repeat=3):\n",
    "    perm.append(p)\n",
    "\n",
    "perm"
   ]
  },
  {
   "cell_type": "markdown",
   "id": "bc0a5037",
   "metadata": {},
   "source": [
    "Without repetition: in this case, once you picked one ball, it cannot be used anymore. So each arrangement of balls will have unique values. In that case, coming back to our box={g,b}, the two possible permutations are 'gb' and 'bg':\n",
    "\n",
    "In that case, we have to consider, after each extraction, that the number of available elements is one less. So, if we have n elements in our set, the permutation will be:\n",
    "\n",
    " 1*2*3*............*n=n!"
   ]
  },
  {
   "cell_type": "code",
   "execution_count": 17,
   "id": "c1203ecc",
   "metadata": {},
   "outputs": [
    {
     "name": "stdout",
     "output_type": "stream",
     "text": [
      "('g', 'b')\n",
      "('b', 'g')\n"
     ]
    }
   ],
   "source": [
    "import itertools\n",
    "\n",
    "box_1=['g','b']\n",
    "perm=itertools.permutations(box_1)\n",
    "\n",
    "for i in list(perm):\n",
    "    print(i)"
   ]
  },
  {
   "cell_type": "code",
   "execution_count": 18,
   "id": "4b042ab4",
   "metadata": {},
   "outputs": [
    {
     "name": "stdout",
     "output_type": "stream",
     "text": [
      "('g', 'b', 'y')\n",
      "('g', 'y', 'b')\n",
      "('b', 'g', 'y')\n",
      "('b', 'y', 'g')\n",
      "('y', 'g', 'b')\n",
      "('y', 'b', 'g')\n"
     ]
    }
   ],
   "source": [
    "import itertools\n",
    "\n",
    "box_1=['g','b','y']\n",
    "perm=itertools.permutations(box_1)\n",
    "\n",
    "for i in list(perm):\n",
    "    print(i)"
   ]
  },
  {
   "cell_type": "markdown",
   "id": "5414cc85",
   "metadata": {},
   "source": [
    "Variations are nothing but permutations where the number of objects we have to pick is less than the total number of objects n. Let's simply retrieve the example above and lets say that, out of three balls, we want to arrange only the first and second positions. Lets use the box= {g,b,y} and lets start with the case of repetition:\n",
    "\n",
    "With repetition: we want to choose two balls (k=2) out of three (n=3) and compute the number of possible permutations: which can be calculated as:\n",
    "\n",
    "V(n,k)=nn....................(k times)= n^k"
   ]
  },
  {
   "cell_type": "code",
   "execution_count": 20,
   "id": "777e04b0",
   "metadata": {},
   "outputs": [
    {
     "data": {
      "text/plain": [
       "[('g', 'g'),\n",
       " ('g', 'b'),\n",
       " ('g', 'y'),\n",
       " ('b', 'g'),\n",
       " ('b', 'b'),\n",
       " ('b', 'y'),\n",
       " ('y', 'g'),\n",
       " ('y', 'b'),\n",
       " ('y', 'y')]"
      ]
     },
     "execution_count": 20,
     "metadata": {},
     "output_type": "execute_result"
    }
   ],
   "source": [
    "box_2=['g','b','y']\n",
    "perm=[]\n",
    "for p in itertools.product(box_2, repeat=2):\n",
    "    perm.append(p)\n",
    "\n",
    "perm"
   ]
  },
  {
   "cell_type": "markdown",
   "id": "67823b49",
   "metadata": {},
   "source": [
    "Without repetition: the same reasoning holds if there are no repetitions. Indeed: In that case, we have:\n",
    "\n",
    "V(n,k)=n!/(n-k)!"
   ]
  },
  {
   "cell_type": "code",
   "execution_count": 21,
   "id": "810160dc",
   "metadata": {},
   "outputs": [
    {
     "name": "stdout",
     "output_type": "stream",
     "text": [
      "('g', 'b')\n",
      "('g', 'y')\n",
      "('b', 'g')\n",
      "('b', 'y')\n",
      "('y', 'g')\n",
      "('y', 'b')\n"
     ]
    }
   ],
   "source": [
    "box_2=['g','b','y']\n",
    "perm=itertools.permutations(box_2,2)\n",
    "\n",
    "for i in list(perm):\n",
    "    print(i)"
   ]
  },
  {
   "cell_type": "markdown",
   "id": "f26eb913",
   "metadata": {},
   "source": [
    "Comninations\n",
    "\n",
    "Combinations are variations(or permutations, if k=n) where the order does not matter. Basically, we use combinations whenever we want to compute in how many ways, from n objects, we can extract k of them, regardless of the order with which those are picked.\n",
    "\n",
    "Namely, if you recall the permutation without repetition we examined at the very beginning, whose outputs were 'gb' and 'bg', the equivalent combination would be only 'gb' (or only 'bg'), since the order does not matter, hence they represent the same object.\n",
    "\n",
    "Lets see it with python, always examining separately the two cases of repetition and no repetition:\n",
    "\n",
    "With repetition:\n",
    "\n",
    "The number of possible combinations (with repetition) is given by:\n",
    "\n",
    "   C(n,k) = (n+k-1)!/k!(n-1)!"
   ]
  },
  {
   "cell_type": "code",
   "execution_count": 22,
   "id": "0b1ff797",
   "metadata": {},
   "outputs": [
    {
     "name": "stdout",
     "output_type": "stream",
     "text": [
      "('g', 'g')\n",
      "('g', 'b')\n",
      "('b', 'b')\n"
     ]
    }
   ],
   "source": [
    "from itertools import combinations_with_replacement\n",
    "\n",
    "box_1=['g','b']\n",
    "comb=combinations_with_replacement(box_1,2)\n",
    "\n",
    "\n",
    "for i in list(comb):\n",
    "    print(i)"
   ]
  },
  {
   "cell_type": "code",
   "execution_count": 23,
   "id": "7c99b228",
   "metadata": {},
   "outputs": [
    {
     "name": "stdout",
     "output_type": "stream",
     "text": [
      "('g', 'g')\n",
      "('g', 'b')\n",
      "('g', 'y')\n",
      "('g', 'w')\n",
      "('b', 'b')\n",
      "('b', 'y')\n",
      "('b', 'w')\n",
      "('y', 'y')\n",
      "('y', 'w')\n",
      "('w', 'w')\n"
     ]
    }
   ],
   "source": [
    "from itertools import combinations_with_replacement\n",
    "\n",
    "box_1=['g','b','y','w']\n",
    "comb=combinations_with_replacement(box_1,2)\n",
    "\n",
    "\n",
    "for i in list(comb):\n",
    "    print(i)"
   ]
  },
  {
   "cell_type": "markdown",
   "id": "f162d13a",
   "metadata": {},
   "source": [
    "Without repetition:\n",
    "\n",
    "The number of possible combinations (without repetition) is given by:\n",
    "\n",
    " C(n,k) = n!/k!(n-k)!"
   ]
  },
  {
   "cell_type": "code",
   "execution_count": 24,
   "id": "7bca8d17",
   "metadata": {},
   "outputs": [
    {
     "name": "stdout",
     "output_type": "stream",
     "text": [
      "('b', 'g')\n"
     ]
    }
   ],
   "source": [
    "from itertools import combinations\n",
    "box_1=['b','g']\n",
    "comb= combinations(box_1,2)\n",
    "\n",
    "for i in list(comb):\n",
    "    print(i)"
   ]
  },
  {
   "cell_type": "code",
   "execution_count": 25,
   "id": "6bcc5edc",
   "metadata": {},
   "outputs": [
    {
     "name": "stdout",
     "output_type": "stream",
     "text": [
      "('b', 'g')\n",
      "('b', 'y')\n",
      "('g', 'y')\n"
     ]
    }
   ],
   "source": [
    "from itertools import combinations\n",
    "box_1=['b','g','y']\n",
    "comb= combinations(box_1,2)\n",
    "\n",
    "for i in list(comb):\n",
    "    print(i)"
   ]
  },
  {
   "cell_type": "code",
   "execution_count": null,
   "id": "562f6917",
   "metadata": {},
   "outputs": [],
   "source": []
  }
 ],
 "metadata": {
  "kernelspec": {
   "display_name": "Python 3",
   "language": "python",
   "name": "python3"
  },
  "language_info": {
   "codemirror_mode": {
    "name": "ipython",
    "version": 3
   },
   "file_extension": ".py",
   "mimetype": "text/x-python",
   "name": "python",
   "nbconvert_exporter": "python",
   "pygments_lexer": "ipython3",
   "version": "3.8.8"
  }
 },
 "nbformat": 4,
 "nbformat_minor": 5
}
